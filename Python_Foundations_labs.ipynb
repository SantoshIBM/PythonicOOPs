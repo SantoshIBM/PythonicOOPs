{
  "nbformat": 4,
  "nbformat_minor": 0,
  "metadata": {
    "colab": {
      "provenance": [],
      "authorship_tag": "ABX9TyOMrMGcW8pTUY5g1oomV6E6",
      "include_colab_link": true
    },
    "kernelspec": {
      "name": "python3",
      "display_name": "Python 3"
    },
    "language_info": {
      "name": "python"
    }
  },
  "cells": [
    {
      "cell_type": "markdown",
      "metadata": {
        "id": "view-in-github",
        "colab_type": "text"
      },
      "source": [
        "<a href=\"https://colab.research.google.com/github/SantoshIBM/PythonicOOPs/blob/main/Python_Foundations_labs.ipynb\" target=\"_parent\"><img src=\"https://colab.research.google.com/assets/colab-badge.svg\" alt=\"Open In Colab\"/></a>"
      ]
    },
    {
      "cell_type": "code",
      "execution_count": null,
      "metadata": {
        "id": "EPLfzYqoyFNI"
      },
      "outputs": [],
      "source": [
        "def person(name,age,city):\n",
        "  String = \"Hello,{name}. You are {age} old.Living in {city}\"\n",
        "  return String.format(name=name,age=age,city=city)"
      ]
    },
    {
      "cell_type": "code",
      "source": [
        "print(person(\"Santosh\",21,\"Knoxville\"))"
      ],
      "metadata": {
        "colab": {
          "base_uri": "https://localhost:8080/"
        },
        "id": "OedfGxuh3lov",
        "outputId": "c6a3ee95-39ba-4607-bceb-fb860ec1e948"
      },
      "execution_count": null,
      "outputs": [
        {
          "output_type": "stream",
          "name": "stdout",
          "text": [
            "Hello,Santosh. You are 21 old.Living in Knoxville\n"
          ]
        }
      ]
    },
    {
      "cell_type": "code",
      "source": [
        "def customer(name,age,city):\n",
        "  customer = {\n",
        "      'name' : name,\n",
        "      'age' : age,\n",
        "      'city' : city,\n",
        "  }\n",
        "  '''String = \"Hello {name}. You are {age} years old. Living in {city}\"\n",
        "  return String.format(**customer)'''\n",
        "  return customer"
      ],
      "metadata": {
        "id": "u2K78-LE-Uhv"
      },
      "execution_count": null,
      "outputs": []
    },
    {
      "cell_type": "code",
      "source": [
        "print(customer(\"Santosh\",40,\"Knoxville\"))"
      ],
      "metadata": {
        "colab": {
          "base_uri": "https://localhost:8080/"
        },
        "id": "RNH1Q_ki_dPz",
        "outputId": "92365dbd-8267-4c04-e39f-d067a35379a8"
      },
      "execution_count": null,
      "outputs": [
        {
          "output_type": "stream",
          "name": "stdout",
          "text": [
            "Hello Santosh. You are 40 years old. Living in Knoxville\n"
          ]
        }
      ]
    },
    {
      "cell_type": "code",
      "source": [
        "customer = customer(\"Santosh\",21,\"Knoxville\")\n",
        "print(\"Hello {name}. You are {age} years old. Living in {city}\".format(**customer))\n"
      ],
      "metadata": {
        "colab": {
          "base_uri": "https://localhost:8080/"
        },
        "id": "LajEFPE9Aqxr",
        "outputId": "fd71522e-e23d-43c1-9d84-e66533100b50"
      },
      "execution_count": null,
      "outputs": [
        {
          "output_type": "stream",
          "name": "stdout",
          "text": [
            "Hello Santosh. You are 21 years old. Living in Knoxville\n"
          ]
        }
      ]
    },
    {
      "cell_type": "markdown",
      "source": [
        "Below is an assignment from powerful python lab work."
      ],
      "metadata": {
        "id": "B7l0n7YDQIym"
      }
    },
    {
      "cell_type": "code",
      "source": [
        "class Person():\n",
        "  def __init__(self, first_name, last_name):\n",
        "    self.first_name = first_name\n",
        "    self.last_name = last_name\n",
        "\n",
        "  def full_name(self):\n",
        "    self.full_name = self.first_name + \" \" + self.last_name\n",
        "    return self.full_name\n",
        "\n",
        "  def formal_name(self,title):\n",
        "    return title + \" \" + self.full_name()\n",
        "\n",
        "FName = input(\"Enter your first name \\n\")\n",
        "LName = input(\"Enter your Last name \\n\")\n",
        "person = Person(FName,LName)\n",
        "Full_Formal_Name = person.formal_name(\"Mr.\")\n",
        "print(\"Welcome {}\".format(Full_Formal_Name))\n"
      ],
      "metadata": {
        "colab": {
          "base_uri": "https://localhost:8080/"
        },
        "id": "mK7mLgNDCB1A",
        "outputId": "d871cb4b-9103-495f-b7d3-e584daf8eb52"
      },
      "execution_count": null,
      "outputs": [
        {
          "output_type": "stream",
          "name": "stdout",
          "text": [
            "Enter your first name \n",
            "Divya\n",
            "Enter your Last name \n",
            "Gunde\n",
            "Welcome Mr. Divya Gunde\n"
          ]
        }
      ]
    },
    {
      "cell_type": "code",
      "source": [],
      "metadata": {
        "id": "c14FkfUjWY1k"
      },
      "execution_count": null,
      "outputs": []
    },
    {
      "cell_type": "markdown",
      "source": [
        "Assignment from powerful python lab work that focuses on building an invoicing function for a customer."
      ],
      "metadata": {
        "id": "I7Au-UD-UhAt"
      }
    },
    {
      "cell_type": "markdown",
      "source": [
        "'''\n",
        "\n",
        "Let's create a class to manage invoices. Its constructor will take\n",
        "an invoice number, the customer name, and the amount of money owed.\n",
        "\n",
        ">>> invoice = Invoice(12, 'Mark Smith', 42.50)\n",
        "\n",
        "The built-in isinstance() tells you whether an object is an instance of\n",
        "a given class or not.\n",
        ">>> isinstance(invoice, Invoice)\n",
        "True\n",
        "\n",
        "This object has some member variables:\n",
        ">>> invoice.number\n",
        "12\n",
        ">>> invoice.customer\n",
        "'Mark Smith'\n",
        ">>> invoice.amount\n",
        "42.5\n",
        "\n",
        "We want to keep track too of the total payments made. At first, this\n",
        "will be zero.\n",
        "\n",
        ">>> invoice.total_payments\n",
        "0\n",
        "\n",
        "Now, the customer may make payments in stages (rather than paying all\n",
        "at once).  So let's create methods to add payments, check whether the\n",
        "invoice is fully paid off, etc.\n",
        "\n",
        ">>> invoice.add_payment(20)\n",
        ">>> invoice.is_fully_paid()\n",
        "False\n",
        ">>> invoice.total_payments\n",
        "20\n",
        ">>> invoice.amount_due()\n",
        "22.5\n",
        "\n",
        ">>> invoice.add_payment(22.50)\n",
        ">>> invoice.is_fully_paid()\n",
        "True\n",
        ">>> invoice.amount_due()\n",
        "0.0\n",
        "\n",
        "'''"
      ],
      "metadata": {
        "id": "udcaXbJ1UzMc"
      }
    },
    {
      "cell_type": "code",
      "source": [
        "class Invoice():\n",
        "  def __init__(self,number,customer,amount_due):\n",
        "    self.invoice_no = number\n",
        "    self.customer_name = customer\n",
        "    self.Invoice_Due = amount_due\n",
        "    self.total_payments = 0\n",
        "\n",
        "  def add_payment(self,payment_amount):\n",
        "      self.total_payments += payment_amount\n",
        "\n",
        "  def amount_due(self):\n",
        "      return self.Invoice_Due - self.total_payments\n",
        "\n",
        "  def  is_fully_paid(self):\n",
        "    return self.amount_due() == 0\n",
        "\n",
        "\n",
        "\n",
        "invoice = Invoice(12,\"Mark Smith\",45.50)\n",
        "invoice.add_payment(20)\n",
        "invoice.add_payment(25.50)\n",
        "print(invoice.is_fully_paid())\n",
        "\n",
        "\n",
        "\n",
        "\n",
        "\n",
        "\n"
      ],
      "metadata": {
        "colab": {
          "base_uri": "https://localhost:8080/"
        },
        "id": "scjamubPQA6n",
        "outputId": "270527ab-f022-4c5a-f386-66eb49e9412b"
      },
      "execution_count": null,
      "outputs": [
        {
          "output_type": "stream",
          "name": "stdout",
          "text": [
            "True\n"
          ]
        }
      ]
    },
    {
      "cell_type": "markdown",
      "source": [
        "The following is lab work from powerful python coursework. This assignment demonstrates inheritance in python.\n",
        "\n",
        "\n",
        "\n",
        "---\n",
        "'''\n",
        "\n",
        "Imagine writing a game called Orcs Vs. Goblins. You will, of course,\n",
        "need goblins:\n",
        "\n",
        ">>> goby = Goblin('Goby')\n",
        ">>> goby.name\n",
        "'Goby'\n",
        "\n",
        ">>> goby.hitpoints\n",
        "10\n",
        ">>> goby.damage\n",
        "3\n",
        "\n",
        "You'll also need orcs, who are a bit bigger and tougher:\n",
        "\n",
        ">>> morgash = Orc('Morgash')\n",
        ">>> morgash.name\n",
        "'Morgash'\n",
        ">>> morgash.hitpoints\n",
        "15\n",
        ">>> morgash.damage\n",
        "5\n",
        "\n",
        "You can check whether a creature is alive:\n",
        "\n",
        ">>> morgash.is_alive()\n",
        "True\n",
        ">>> morgash.hitpoints = 0\n",
        ">>> morgash.is_alive()\n",
        "False\n",
        ">>> morgash.hitpoints = 10\n",
        ">>> morgash.is_alive()\n",
        "True\n",
        "\n",
        "Both goblins and orcs inherit from a class called Critter.\n",
        "IMPORTANT: Put as many methods and member variables as possible in\n",
        "this base class. Can you find a way to put ALL the methods in Critter?\n",
        "\n",
        ">>> isinstance(goby, Critter)\n",
        "True\n",
        ">>> isinstance(morgash, Critter)\n",
        "True\n",
        "\n",
        "This being a fighting game, critters can (and will) attack each other.\n",
        "(Notice the attack() method returns the amount of damage done.)\n",
        "\n",
        ">>> goby.hitpoints\n",
        "10\n",
        ">>> morgash.hitpoints\n",
        "10\n",
        ">>> morgash.attack(goby)\n",
        "5\n",
        ">>> goby.hitpoints\n",
        "5\n",
        ">>> goby.attack(morgash)\n",
        "3\n",
        ">>> goby.attack(morgash)\n",
        "3\n",
        ">>> morgash.hitpoints\n",
        "4\n",
        "\n",
        "Hit points can't go below zero, though:\n",
        ">>> goby.attack(morgash)\n",
        "3\n",
        ">>> morgash.hitpoints\n",
        "1\n",
        ">>> goby.attack(morgash)\n",
        "1\n",
        ">>> morgash.hitpoints\n",
        "0\n",
        ">>> goby.attack(morgash)\n",
        "0\n",
        ">>> morgash.hitpoints\n",
        "0\n",
        "\n",
        "Critters can describe themselves, which we'll use in the user interface:\n",
        "\n",
        ">>> goby.describe()\n",
        "'Goby the Goblin'\n",
        ">>> morgash.describe()\n",
        "'Morgash the Orc'\n",
        "\n",
        "'''\n",
        "\n",
        "---\n",
        "\n",
        "\n"
      ],
      "metadata": {
        "id": "_kYJ_hQLvMAj"
      }
    },
    {
      "cell_type": "code",
      "source": [
        "class Critters():\n",
        "  def __init__(self,name):\n",
        "    self.name = name\n",
        "\n",
        "  def describe(self):\n",
        "    return \"{} the {}\".format(self.name,self.__class__.__name__)\n",
        "\n",
        "  def attack(self,enemy):\n",
        "    enemy.hitpoints -= self.damage\n",
        "    return self.damage\n",
        "\n",
        "  def isalive(self):\n",
        "    return self.hitpoints > 0\n",
        "\n",
        "class Goblin(Critters):\n",
        "  hitpoints = 10\n",
        "  damage = 3\n",
        "\n",
        "class Orc(Critters):\n",
        "  hitpoints = 15\n",
        "  damage = 5\n",
        "\n",
        "\n"
      ],
      "metadata": {
        "id": "mYltm8GwvLeq"
      },
      "execution_count": null,
      "outputs": []
    },
    {
      "cell_type": "code",
      "source": [
        "goby = Goblin(\"Goby\")\n",
        "goby.name"
      ],
      "metadata": {
        "colab": {
          "base_uri": "https://localhost:8080/",
          "height": 35
        },
        "id": "7h-fRLWD31I7",
        "outputId": "3bb00666-b212-466e-d44d-b595cdee5bd0"
      },
      "execution_count": null,
      "outputs": [
        {
          "output_type": "execute_result",
          "data": {
            "text/plain": [
              "'Goby'"
            ],
            "application/vnd.google.colaboratory.intrinsic+json": {
              "type": "string"
            }
          },
          "metadata": {},
          "execution_count": 84
        }
      ]
    },
    {
      "cell_type": "code",
      "source": [
        "goby.hitpoints\n"
      ],
      "metadata": {
        "colab": {
          "base_uri": "https://localhost:8080/"
        },
        "id": "0nrtKfa-4WUk",
        "outputId": "274f5bdd-8606-43c0-aa64-cded8435d569"
      },
      "execution_count": null,
      "outputs": [
        {
          "output_type": "execute_result",
          "data": {
            "text/plain": [
              "10"
            ]
          },
          "metadata": {},
          "execution_count": 56
        }
      ]
    },
    {
      "cell_type": "code",
      "source": [
        "goby.damage"
      ],
      "metadata": {
        "colab": {
          "base_uri": "https://localhost:8080/"
        },
        "id": "7JiCPG3l4Zfo",
        "outputId": "544f78c3-945e-4258-9df4-ce20c39cb447"
      },
      "execution_count": null,
      "outputs": [
        {
          "output_type": "execute_result",
          "data": {
            "text/plain": [
              "3"
            ]
          },
          "metadata": {},
          "execution_count": 57
        }
      ]
    },
    {
      "cell_type": "code",
      "source": [
        "morgash = Orc('Morgash')\n",
        "morgash.name"
      ],
      "metadata": {
        "colab": {
          "base_uri": "https://localhost:8080/",
          "height": 35
        },
        "id": "7irJowwA4djP",
        "outputId": "e43e56fd-6cc5-4f66-bfce-ffadfa27f5fc"
      },
      "execution_count": null,
      "outputs": [
        {
          "output_type": "execute_result",
          "data": {
            "text/plain": [
              "'Morgash'"
            ],
            "application/vnd.google.colaboratory.intrinsic+json": {
              "type": "string"
            }
          },
          "metadata": {},
          "execution_count": 58
        }
      ]
    },
    {
      "cell_type": "code",
      "source": [
        "morgash.hitpoints"
      ],
      "metadata": {
        "colab": {
          "base_uri": "https://localhost:8080/"
        },
        "id": "F3HK9mcs49xU",
        "outputId": "10aa32bb-b3c5-4cc3-fff3-d364409a37ae"
      },
      "execution_count": null,
      "outputs": [
        {
          "output_type": "execute_result",
          "data": {
            "text/plain": [
              "15"
            ]
          },
          "metadata": {},
          "execution_count": 59
        }
      ]
    },
    {
      "cell_type": "code",
      "source": [
        "morgash.damage"
      ],
      "metadata": {
        "colab": {
          "base_uri": "https://localhost:8080/"
        },
        "id": "0mio8_uu5B5v",
        "outputId": "bb2c16c0-e096-4f6c-c6be-4e4c4718a8be"
      },
      "execution_count": null,
      "outputs": [
        {
          "output_type": "execute_result",
          "data": {
            "text/plain": [
              "5"
            ]
          },
          "metadata": {},
          "execution_count": 60
        }
      ]
    },
    {
      "cell_type": "code",
      "source": [
        "isinstance(goby,Critters)"
      ],
      "metadata": {
        "colab": {
          "base_uri": "https://localhost:8080/"
        },
        "id": "qt2aAtnS5FvM",
        "outputId": "ad8ae2df-a1b1-42d9-eef8-6d2a6f5996c1"
      },
      "execution_count": null,
      "outputs": [
        {
          "output_type": "execute_result",
          "data": {
            "text/plain": [
              "True"
            ]
          },
          "metadata": {},
          "execution_count": 61
        }
      ]
    },
    {
      "cell_type": "code",
      "source": [
        "isinstance(morgash,Critters)"
      ],
      "metadata": {
        "colab": {
          "base_uri": "https://localhost:8080/"
        },
        "id": "Lh3RXr4L5leS",
        "outputId": "db1ab0f1-c01f-4cae-c273-117716d6b1ff"
      },
      "execution_count": null,
      "outputs": [
        {
          "output_type": "execute_result",
          "data": {
            "text/plain": [
              "True"
            ]
          },
          "metadata": {},
          "execution_count": 62
        }
      ]
    },
    {
      "cell_type": "code",
      "source": [
        "goby = Goblin(\"Goby\")\n",
        "goby.describe()\n",
        "\n",
        "\n"
      ],
      "metadata": {
        "colab": {
          "base_uri": "https://localhost:8080/",
          "height": 35
        },
        "id": "2gdPtqI-5ruX",
        "outputId": "dcba2f25-c2a7-448a-e6d9-96feab2db28b"
      },
      "execution_count": null,
      "outputs": [
        {
          "output_type": "execute_result",
          "data": {
            "text/plain": [
              "'Goby the Goblin'"
            ],
            "application/vnd.google.colaboratory.intrinsic+json": {
              "type": "string"
            }
          },
          "metadata": {},
          "execution_count": 87
        }
      ]
    },
    {
      "cell_type": "code",
      "source": [
        "morgash.isalive()\n"
      ],
      "metadata": {
        "colab": {
          "base_uri": "https://localhost:8080/"
        },
        "id": "wo4aHTVF7JoU",
        "outputId": "42de8c50-4f89-48bc-ba24-78bef6078472"
      },
      "execution_count": null,
      "outputs": [
        {
          "output_type": "execute_result",
          "data": {
            "text/plain": [
              "False"
            ]
          },
          "metadata": {},
          "execution_count": 69
        }
      ]
    },
    {
      "cell_type": "code",
      "source": [
        "morgash.hitpoints"
      ],
      "metadata": {
        "colab": {
          "base_uri": "https://localhost:8080/"
        },
        "id": "nSsAIo0g7Qc7",
        "outputId": "22d611a2-9550-47f8-a312-f2c190a8b67c"
      },
      "execution_count": null,
      "outputs": [
        {
          "output_type": "execute_result",
          "data": {
            "text/plain": [
              "0"
            ]
          },
          "metadata": {},
          "execution_count": 70
        }
      ]
    },
    {
      "cell_type": "code",
      "source": [
        "morgash.hitpoints = 0\n",
        "morgash.isalive()"
      ],
      "metadata": {
        "colab": {
          "base_uri": "https://localhost:8080/"
        },
        "id": "xc3wxR0c7Seu",
        "outputId": "79ea1a7b-b3c1-453f-e189-77e5cca1c238"
      },
      "execution_count": null,
      "outputs": [
        {
          "output_type": "execute_result",
          "data": {
            "text/plain": [
              "False"
            ]
          },
          "metadata": {},
          "execution_count": 71
        }
      ]
    },
    {
      "cell_type": "code",
      "source": [
        "goby.describe()\n"
      ],
      "metadata": {
        "colab": {
          "base_uri": "https://localhost:8080/"
        },
        "id": "Ni-Mmike7e0n",
        "outputId": "b26b432d-7e0c-4ec6-b09d-0a239b357eb4"
      },
      "execution_count": null,
      "outputs": [
        {
          "output_type": "stream",
          "name": "stdout",
          "text": [
            "Goby the Goblin\n"
          ]
        }
      ]
    },
    {
      "cell_type": "markdown",
      "source": [],
      "metadata": {
        "id": "nvEEHwMBQS48"
      }
    },
    {
      "cell_type": "code",
      "source": [
        "class factorial():\n",
        "  def factorial(self,number):\n",
        "    value = 1\n",
        "    for i in range(number+1):\n",
        "      if(i > 0) :\n",
        "            value = i*value\n",
        "            #print(\"Iteration no is {i} and value is {value}\".format(i=i,value =value))\n",
        "    print(\"Factorial of {number} is {value}\".format(number=number,value =value))\n",
        "\n"
      ],
      "metadata": {
        "id": "YF8fN0mj4cy3"
      },
      "execution_count": null,
      "outputs": []
    },
    {
      "cell_type": "code",
      "source": [
        "fac = factorial()\n",
        "fac.factorial(10)\n"
      ],
      "metadata": {
        "colab": {
          "base_uri": "https://localhost:8080/"
        },
        "id": "etPCUxuS9Kb1",
        "outputId": "ad2370bc-2cf7-4271-da8e-bf8962b1e27c"
      },
      "execution_count": null,
      "outputs": [
        {
          "output_type": "stream",
          "name": "stdout",
          "text": [
            "Factorial of 10 is 3628800\n"
          ]
        }
      ]
    },
    {
      "cell_type": "code",
      "source": [
        "class factorial():\n",
        "  def __init__(self,number):\n",
        "    self.number = number\n",
        "    self.value = 1\n",
        "\n",
        "  @property\n",
        "  def factorial(self):\n",
        "    for i in range(self.number+1):\n",
        "      if(i > 0):\n",
        "        self.value =  i*self.value\n",
        "        #print(\"Iteration no is {i} and value is {value}\".format(i=i,value =value))\n",
        "\n",
        "    print(\"Factorial of {number} is {value}\".format(number=self.number,value =self.value))\n",
        "\n"
      ],
      "metadata": {
        "id": "2bFXoHWQDT4n"
      },
      "execution_count": null,
      "outputs": []
    },
    {
      "cell_type": "code",
      "source": [
        "fac = factorial(3)\n",
        "fac.factorial\n",
        "\n"
      ],
      "metadata": {
        "colab": {
          "base_uri": "https://localhost:8080/"
        },
        "id": "YtxWXRTSDkfR",
        "outputId": "75c3ad16-6822-44be-9e8d-7126a7fca47d"
      },
      "execution_count": null,
      "outputs": [
        {
          "output_type": "stream",
          "name": "stdout",
          "text": [
            "Factorial of 3 is 6\n"
          ]
        }
      ]
    },
    {
      "cell_type": "markdown",
      "source": [],
      "metadata": {
        "id": "dp9y31B7-VNA"
      }
    },
    {
      "cell_type": "code",
      "source": [
        "import json\n",
        "\n",
        "class View():\n",
        "  def render(self):\n",
        "    args = self.params()\n",
        "    return json.dumps(args)\n",
        "\n",
        "\n",
        "class dictionary(View):\n",
        "  def params(self):\n",
        "    return {\n",
        "        'age' : 61,\n",
        "    }"
      ],
      "metadata": {
        "id": "g3ff4Kl6Ck66"
      },
      "execution_count": null,
      "outputs": []
    },
    {
      "cell_type": "code",
      "source": [
        "dict = dictionary()\n",
        "dict.render()\n"
      ],
      "metadata": {
        "colab": {
          "base_uri": "https://localhost:8080/",
          "height": 35
        },
        "id": "EhF4Z2VuDmZe",
        "outputId": "0111834e-f6e1-42e6-cf25-5ead63271ae9"
      },
      "execution_count": null,
      "outputs": [
        {
          "output_type": "execute_result",
          "data": {
            "text/plain": [
              "'{\"age\": 61}'"
            ],
            "application/vnd.google.colaboratory.intrinsic+json": {
              "type": "string"
            }
          },
          "metadata": {},
          "execution_count": 46
        }
      ]
    },
    {
      "cell_type": "markdown",
      "source": [
        "The below is code for developing an web app based on powerful python lab\n",
        "\n",
        "\n",
        "\n",
        "---\n",
        "\n",
        "Let's create a simple web application framework. We'll need view\n",
        "classes for each page on the site:\n",
        "\n",
        ">>> home_view = HomePageView()\n",
        ">>> home_view.render()\n",
        "'<html><body>Welcome!</body></html>'\n",
        ">>> home_view.body\n",
        "'Welcome!'\n",
        "\n",
        ">>> about_view = AboutPageView()\n",
        ">>> about_view.render()\n",
        "'<html><body>This is a simple website about nutrition.</body></html>'\n",
        "\n",
        "To route URLs to views, we'll create a global webapp object.\n",
        "\n",
        ">>> app = WebApp()\n",
        "\n",
        "It will keep track of the mappings with a protected variable:\n",
        "\n",
        ">>> type(app._routes)\n",
        "<class 'dict'>\n",
        "\n",
        "Routings - that is, a mapping from a URL to a view object - are\n",
        "created with add_route(). Then you can get and render the view with\n",
        "get().\n",
        "\n",
        ">>> app.add_route(\"/\", home_view)\n",
        ">>> app.add_route(\"/about/\", about_view)\n",
        ">>> app.get(\"/\")\n",
        "'<html><body>Welcome!</body></html>'\n",
        ">>> app.get(\"/about/\")\n",
        "'<html><body>This is a simple website about nutrition.</body></html>'\n",
        "\n",
        "Let's create some more views. This site has two kinds of endpoints:\n",
        "HTML pages, for browser content, and JSON objects, for API access.\n",
        "\n",
        ">>> class ContactView(HTMLView):\n",
        "...     body = 'Get in touch at hello@example.com'\n",
        "...\n",
        ">>> app.add_route(\"/contact/\", ContactView())\n",
        ">>> app.get(\"/contact/\")\n",
        "'<html><body>Get in touch at hello@example.com</body></html>'\n",
        "\n",
        "(Hint for the JSON endpoints: One of the functions in the json module\n",
        "takes an option to sort object keys.)\n",
        "\n",
        ">>> class CarrotInfoView(JSONView):\n",
        "...     def data(self):\n",
        "...         return {\n",
        "...             'serving_size': 61,\n",
        "...             'fat': 0.1,\n",
        "...             'calories': 25,\n",
        "...             'protein': 0.6,\n",
        "...             }\n",
        "\n",
        ">>> carrot_view = CarrotInfoView()\n",
        ">>> carrot_view.render()\n",
        "'{\"calories\": 25, \"fat\": 0.1, \"protein\": 0.6, \"serving_size\": 61}'\n",
        ">>> app.add_route(\"/api/carrot/\", carrot_view)\n",
        "\n",
        "Create a view for baked chicken nutritional info:\n",
        "\n",
        ">>> app.add_route(\"/api/chicken/\", ChickenInfoView())\n",
        ">>> app.get(\"/api/chicken/\")\n",
        "'{\"calories\": 231, \"fat\": 5, \"protein\": 43, \"serving_size\": 140}'\n",
        "\n",
        "And let's add a helper to give us a sorted list of all URLs defined so far.\n",
        "\n",
        ">>> app.urls()\n",
        "['/', '/about/', '/api/carrot/', '/api/chicken/', '/contact/']\n",
        "\n",
        "It's important to keep your class hierarchies well-organized. Since\n",
        "every view has a render() method, it makes sense to put that in a\n",
        "common base class.\n",
        "\n",
        ">>> type(View.render)\n",
        "<class 'function'>\n",
        "\n",
        ">>> isinstance(home_view, View)\n",
        "True\n",
        ">>> issubclass(ChickenInfoView, View)\n",
        "True\n",
        "\n",
        "And we can have more specialized views, FOR EXAMPLE WHEN WE WANT TO\n",
        "OUR WRITING TO MAKE AN IMPACT:\n",
        "\n",
        ">>> class LegalView(ShoutingHTMLView):\n",
        "...     body = 'you agree to our terms of service!'\n",
        "\n",
        ">>> legal_view = LegalView()\n",
        ">>> app.add_route(\"/legal/\", legal_view)\n",
        ">>> app.get(\"/legal/\")\n",
        "'<HTML><BODY>YOU AGREE TO OUR TERMS OF SERVICE!</BODY></HTML>'\n",
        ">>> isinstance(legal_view, HTMLView)\n",
        "True\n",
        "\n",
        "Python lets you do something called \"monkey patching\".  It can lead to\n",
        "hard-to-understand code, so don't overuse it. But it can be useful\n",
        "when working with certain libraries whose source you cannot/do not\n",
        "want to modify, for example.\n",
        "\n",
        "The idea is you modify a method of an already-created object, or a\n",
        "superclass deep in an inheritance hierarchy, by assigning to it\n",
        "directly. It works because in Python, (a) everything is an object, and\n",
        "(b) methods are just attributes that can be assigned to.\n",
        "\n",
        ">>> original_htmlview_render = HTMLView.render\n",
        ">>> def new_htmlview_render(self):\n",
        "...     # Add <p> tag around content\n",
        "...     return '<html><body><p>' + self.body + '<p></body></html>'\n",
        ">>> HTMLView.render = new_htmlview_render\n",
        "\n",
        "Now that HTMLView is modified, instances of its subclasses are\n",
        "modified too - provided that subclass reuses that method defined in\n",
        "the superclass:\n",
        "\n",
        ">>> legal_view.render()\n",
        "'<HTML><BODY><P>YOU AGREE TO OUR TERMS OF SERVICE!<P></BODY></HTML>'\n",
        "\n",
        "'''\n",
        "\n",
        "---\n",
        "\n"
      ],
      "metadata": {
        "id": "lgT9XZXhKOsn"
      }
    },
    {
      "cell_type": "code",
      "source": [
        "import abc\n",
        "import json\n",
        "\n",
        "class View(metaclass = abc.ABCMeta):\n",
        "  @abc.abstractmethod\n",
        "  def render(self):\n",
        "    pass\n",
        "\n",
        "class HomePageView(View):\n",
        "  def render(self):\n",
        "    self.body = 'Welcome!'\n",
        "    return '<html><body>' +self.body + '</body></html>'\n",
        "\n",
        "class AboutPageView(View):\n",
        "  def render(self):\n",
        "    self.body = 'This is a simple website about nutrition.'\n",
        "    return '<html><body>' +self.body + '</body></html>'\n",
        "\n",
        "class HTMLView(View):\n",
        "  def render(self):\n",
        "    body = '<html><body>' + self.body + '</body></html>'\n",
        "    return body\n",
        "\n",
        "\n",
        "class ShoutingHTMLView(HTMLView):\n",
        "  def render(self):\n",
        "    return super().render().upper()\n",
        "\n",
        "class LegalView(ShoutingHTMLView):\n",
        "  def render(self):\n",
        "    self.body = 'you agree to our terms of service!'\n",
        "    return super().render()\n",
        "\n",
        "class ContactView(HTMLView):\n",
        "  def render(self):\n",
        "    self.body = 'Get in touch at hello@example.com'\n",
        "    return '<html><body>' +self.body + '</body></html>'\n",
        "\n",
        "class WebApp():\n",
        "\n",
        "  def __init__(self):\n",
        "    self._routes = {}\n",
        "\n",
        "  def add_route(self,key,value):\n",
        "    self.key = key\n",
        "    self.value = value\n",
        "    self._routes[self.key] = self.value\n",
        "\n",
        "  def get(self,key):\n",
        "    return self._routes[key].render()\n",
        "\n",
        "  def urls(self):\n",
        "    return sorted(self._routes.keys())\n",
        "\n",
        "\n",
        "\n",
        "class JSONView(View):\n",
        "  def render(self):\n",
        "    args = self.data()\n",
        "    return json.dumps(args,sort_keys=True)\n",
        "\n",
        "class CarrotInfoView(JSONView):\n",
        "  def data(self):\n",
        "    return {\n",
        "        'serving_size': 61,\n",
        "        'fat': 0.1,\n",
        "        'calories': 25,\n",
        "        'protein': 0.6,\n",
        "    }\n",
        "\n",
        "class ChickenInfoView(JSONView):\n",
        "  def __init__(self):\n",
        "    pass\n",
        "  def data(self):\n",
        "    return {\n",
        "        'serving_size': 140,\n",
        "        'fat': 5,\n",
        "        'calories': 231,\n",
        "        'protein': 43,\n",
        "    }\n",
        "\n"
      ],
      "metadata": {
        "id": "HcLNlP1_KV80"
      },
      "execution_count": 37,
      "outputs": []
    },
    {
      "cell_type": "code",
      "source": [
        "home_view = HomePageView()\n",
        "home_view.render()\n",
        "home_view.body"
      ],
      "metadata": {
        "colab": {
          "base_uri": "https://localhost:8080/",
          "height": 35
        },
        "id": "lScdR9EYW4-z",
        "outputId": "fef45325-a8e3-4377-e05a-5e72ec13335f"
      },
      "execution_count": 15,
      "outputs": [
        {
          "output_type": "execute_result",
          "data": {
            "text/plain": [
              "'Welcome!'"
            ],
            "application/vnd.google.colaboratory.intrinsic+json": {
              "type": "string"
            }
          },
          "metadata": {},
          "execution_count": 15
        }
      ]
    },
    {
      "cell_type": "code",
      "source": [
        "about_view = AboutPageView()\n",
        "about_view.render()\n"
      ],
      "metadata": {
        "colab": {
          "base_uri": "https://localhost:8080/",
          "height": 35
        },
        "id": "k8X3DPuGleUx",
        "outputId": "33249378-fded-460c-9181-946c6d9533d4"
      },
      "execution_count": 16,
      "outputs": [
        {
          "output_type": "execute_result",
          "data": {
            "text/plain": [
              "'<html><body>This is a simple website about nutrition.</body></html>'"
            ],
            "application/vnd.google.colaboratory.intrinsic+json": {
              "type": "string"
            }
          },
          "metadata": {},
          "execution_count": 16
        }
      ]
    },
    {
      "cell_type": "code",
      "source": [
        "app = WebApp()\n",
        "type(app._routes)"
      ],
      "metadata": {
        "colab": {
          "base_uri": "https://localhost:8080/"
        },
        "id": "OSOiRq1WmCNQ",
        "outputId": "a8c8963e-9c11-4459-9125-c9184cc097c6"
      },
      "execution_count": 17,
      "outputs": [
        {
          "output_type": "execute_result",
          "data": {
            "text/plain": [
              "dict"
            ]
          },
          "metadata": {},
          "execution_count": 17
        }
      ]
    },
    {
      "cell_type": "code",
      "source": [
        "app.add_route(\"/\", home_view)\n",
        "app.add_route(\"/about/\", about_view)\n",
        "app.get(\"/\")"
      ],
      "metadata": {
        "colab": {
          "base_uri": "https://localhost:8080/",
          "height": 35
        },
        "id": "4YPWSBubnNAB",
        "outputId": "659afa5e-c827-4260-cb74-165b887cef5a"
      },
      "execution_count": 18,
      "outputs": [
        {
          "output_type": "execute_result",
          "data": {
            "text/plain": [
              "'<html><body>Welcome!</body></html>'"
            ],
            "application/vnd.google.colaboratory.intrinsic+json": {
              "type": "string"
            }
          },
          "metadata": {},
          "execution_count": 18
        }
      ]
    },
    {
      "cell_type": "code",
      "source": [
        "app.get(\"/about/\")\n",
        "app.add_route(\"/contact/\", ContactView())\n",
        "app.get(\"/contact/\")"
      ],
      "metadata": {
        "colab": {
          "base_uri": "https://localhost:8080/",
          "height": 35
        },
        "id": "3S_la6YqnZkQ",
        "outputId": "f027c381-4c34-4119-a845-70a9af669354"
      },
      "execution_count": 19,
      "outputs": [
        {
          "output_type": "execute_result",
          "data": {
            "text/plain": [
              "'<html><body>Get in touch at hello@example.com</body></html>'"
            ],
            "application/vnd.google.colaboratory.intrinsic+json": {
              "type": "string"
            }
          },
          "metadata": {},
          "execution_count": 19
        }
      ]
    },
    {
      "cell_type": "code",
      "source": [
        "carrot_view = CarrotInfoView()\n",
        "carrot_view.render()"
      ],
      "metadata": {
        "colab": {
          "base_uri": "https://localhost:8080/",
          "height": 35
        },
        "id": "EbbzmIPAojiJ",
        "outputId": "4ff9a937-a748-4848-bfe0-8bbc0713a4c6"
      },
      "execution_count": 20,
      "outputs": [
        {
          "output_type": "execute_result",
          "data": {
            "text/plain": [
              "'{\"calories\": 25, \"fat\": 0.1, \"protein\": 0.6, \"serving_size\": 61}'"
            ],
            "application/vnd.google.colaboratory.intrinsic+json": {
              "type": "string"
            }
          },
          "metadata": {},
          "execution_count": 20
        }
      ]
    },
    {
      "cell_type": "code",
      "source": [
        "app.add_route(\"/api/carrot/\", carrot_view)\n",
        "app.add_route(\"/api/chicken/\", ChickenInfoView())\n",
        "app.get(\"/api/chicken/\")"
      ],
      "metadata": {
        "colab": {
          "base_uri": "https://localhost:8080/",
          "height": 35
        },
        "id": "NppLGqlSouMq",
        "outputId": "edfd29eb-2d7f-496e-e85b-cb0644a5c7b8"
      },
      "execution_count": 21,
      "outputs": [
        {
          "output_type": "execute_result",
          "data": {
            "text/plain": [
              "'{\"calories\": 231, \"fat\": 5, \"protein\": 43, \"serving_size\": 140}'"
            ],
            "application/vnd.google.colaboratory.intrinsic+json": {
              "type": "string"
            }
          },
          "metadata": {},
          "execution_count": 21
        }
      ]
    },
    {
      "cell_type": "code",
      "source": [
        "app.urls()"
      ],
      "metadata": {
        "colab": {
          "base_uri": "https://localhost:8080/"
        },
        "id": "XBkCbcfjo7rR",
        "outputId": "9008e1c2-c16a-4a8a-c56e-383101905927"
      },
      "execution_count": 22,
      "outputs": [
        {
          "output_type": "execute_result",
          "data": {
            "text/plain": [
              "['/', '/about/', '/api/carrot/', '/api/chicken/', '/contact/']"
            ]
          },
          "metadata": {},
          "execution_count": 22
        }
      ]
    },
    {
      "cell_type": "code",
      "source": [
        "type(View.render)"
      ],
      "metadata": {
        "colab": {
          "base_uri": "https://localhost:8080/"
        },
        "id": "4jH5aeA2o_PZ",
        "outputId": "781ca704-e301-40d0-ece4-064ee5b91ca7"
      },
      "execution_count": 23,
      "outputs": [
        {
          "output_type": "execute_result",
          "data": {
            "text/plain": [
              "function"
            ]
          },
          "metadata": {},
          "execution_count": 23
        }
      ]
    },
    {
      "cell_type": "code",
      "source": [
        "isinstance(home_view, View)"
      ],
      "metadata": {
        "colab": {
          "base_uri": "https://localhost:8080/"
        },
        "id": "L1PCg11fpCq3",
        "outputId": "02c44e64-46d6-44b8-a27b-14fb438f4af5"
      },
      "execution_count": 24,
      "outputs": [
        {
          "output_type": "execute_result",
          "data": {
            "text/plain": [
              "True"
            ]
          },
          "metadata": {},
          "execution_count": 24
        }
      ]
    },
    {
      "cell_type": "code",
      "source": [
        "legal_view = LegalView()\n",
        "legal_view.render()\n",
        "app.add_route(\"/legal/\", legal_view)\n",
        "app.get(\"/legal/\")"
      ],
      "metadata": {
        "colab": {
          "base_uri": "https://localhost:8080/",
          "height": 35
        },
        "id": "szEP7am4qauq",
        "outputId": "b0ec9913-d23d-4a17-ecee-1849652b507f"
      },
      "execution_count": 39,
      "outputs": [
        {
          "output_type": "execute_result",
          "data": {
            "text/plain": [
              "'<HTML><BODY>YOU AGREE TO OUR TERMS OF SERVICE!</BODY></HTML>'"
            ],
            "application/vnd.google.colaboratory.intrinsic+json": {
              "type": "string"
            }
          },
          "metadata": {},
          "execution_count": 39
        }
      ]
    },
    {
      "cell_type": "code",
      "source": [
        "issubclass(ChickenInfoView,View)"
      ],
      "metadata": {
        "colab": {
          "base_uri": "https://localhost:8080/"
        },
        "id": "r6nl5m7_qwMH",
        "outputId": "d74c0c39-a994-41d4-eccf-22ad9995a20d"
      },
      "execution_count": 40,
      "outputs": [
        {
          "output_type": "execute_result",
          "data": {
            "text/plain": [
              "True"
            ]
          },
          "metadata": {},
          "execution_count": 40
        }
      ]
    },
    {
      "cell_type": "code",
      "source": [
        "original_htmlview_render = HTMLView.render\n",
        "def new_htmlview_render(self):\n",
        "  return '<html><body><p><i>' + self.body + '<i><p></body></html>'\n",
        "HTMLView.render = new_htmlview_render\n",
        "app.get(\"/legal/\")"
      ],
      "metadata": {
        "colab": {
          "base_uri": "https://localhost:8080/",
          "height": 35
        },
        "id": "qmb_nV1BtXk8",
        "outputId": "c9342970-a9a9-4c8d-b86a-7543f68998e8"
      },
      "execution_count": 48,
      "outputs": [
        {
          "output_type": "execute_result",
          "data": {
            "text/plain": [
              "'<HTML><BODY><P><I>YOU AGREE TO OUR TERMS OF SERVICE!<I><P></BODY></HTML>'"
            ],
            "application/vnd.google.colaboratory.intrinsic+json": {
              "type": "string"
            }
          },
          "metadata": {},
          "execution_count": 48
        }
      ]
    },
    {
      "cell_type": "code",
      "source": [
        "class Pet():\n",
        "  sound = \"\"\n",
        "  def __init__(self,name):\n",
        "    self.name = name\n",
        "\n",
        "  def speak(self):\n",
        "    return self.sound + \"!\"\n",
        "\n",
        "  def describe(self):\n",
        "    kind_of_pet = self.__class__.__name__.lower()\n",
        "    return \"The {} says {}\".format(kind_of_pet,self.speak())\n",
        "\n",
        "class Dog(Pet):\n",
        "  sound = \"Woof\"\n",
        "\n",
        "class LapDog(Dog):\n",
        "  sound = \"Yip\"\n",
        "\n",
        "class LoudLapDog(LapDog):\n",
        "  def speak(self):\n",
        "    return super().speak().upper() * 3\n"
      ],
      "metadata": {
        "id": "u8vY3wVDzOPF"
      },
      "execution_count": 7,
      "outputs": []
    },
    {
      "cell_type": "code",
      "source": [
        "pet = Pet(\"Sunny\")\n",
        "pet.describe()"
      ],
      "metadata": {
        "colab": {
          "base_uri": "https://localhost:8080/",
          "height": 35
        },
        "id": "eCdeFcobzQ-W",
        "outputId": "c1d89e8c-7db5-4d90-c640-8f1bc8a4e347"
      },
      "execution_count": 16,
      "outputs": [
        {
          "output_type": "execute_result",
          "data": {
            "text/plain": [
              "'The pet says !'"
            ],
            "application/vnd.google.colaboratory.intrinsic+json": {
              "type": "string"
            }
          },
          "metadata": {},
          "execution_count": 16
        }
      ]
    },
    {
      "cell_type": "code",
      "source": [
        "dog = Dog(\"Lucy\")\n",
        "dog.describe()"
      ],
      "metadata": {
        "colab": {
          "base_uri": "https://localhost:8080/",
          "height": 35
        },
        "id": "mZ1RW5kijBKI",
        "outputId": "ef77c923-fbe9-4924-c7c1-931f746ba373"
      },
      "execution_count": 20,
      "outputs": [
        {
          "output_type": "execute_result",
          "data": {
            "text/plain": [
              "'The dog says Woof!'"
            ],
            "application/vnd.google.colaboratory.intrinsic+json": {
              "type": "string"
            }
          },
          "metadata": {},
          "execution_count": 20
        }
      ]
    },
    {
      "cell_type": "code",
      "source": [
        "bucky = LapDog(\"Bucky\")\n",
        "bucky.describe()"
      ],
      "metadata": {
        "colab": {
          "base_uri": "https://localhost:8080/",
          "height": 35
        },
        "id": "nfwSR23ZjMgY",
        "outputId": "1aee247b-c14b-4071-a52d-ace5f8a27494"
      },
      "execution_count": 49,
      "outputs": [
        {
          "output_type": "execute_result",
          "data": {
            "text/plain": [
              "'The lapdog says Yip!'"
            ],
            "application/vnd.google.colaboratory.intrinsic+json": {
              "type": "string"
            }
          },
          "metadata": {},
          "execution_count": 49
        }
      ]
    },
    {
      "cell_type": "code",
      "source": [
        "nacho = LoudLapDog(\"Nacho\")\n",
        "nacho.describe()"
      ],
      "metadata": {
        "colab": {
          "base_uri": "https://localhost:8080/",
          "height": 35
        },
        "id": "WJX0Pzskne2A",
        "outputId": "14a3b5ed-b2b7-46ea-ba45-b59803bd33de"
      },
      "execution_count": 11,
      "outputs": [
        {
          "output_type": "execute_result",
          "data": {
            "text/plain": [
              "'The loudlapdog says YIP!YIP!YIP!'"
            ],
            "application/vnd.google.colaboratory.intrinsic+json": {
              "type": "string"
            }
          },
          "metadata": {},
          "execution_count": 11
        }
      ]
    },
    {
      "cell_type": "code",
      "source": [
        "nacho.sound"
      ],
      "metadata": {
        "colab": {
          "base_uri": "https://localhost:8080/",
          "height": 35
        },
        "id": "RELISrI7IhcY",
        "outputId": "ea383927-2040-4c90-a083-7366d426ad80"
      },
      "execution_count": 9,
      "outputs": [
        {
          "output_type": "execute_result",
          "data": {
            "text/plain": [
              "'Yip'"
            ],
            "application/vnd.google.colaboratory.intrinsic+json": {
              "type": "string"
            }
          },
          "metadata": {},
          "execution_count": 9
        }
      ]
    },
    {
      "cell_type": "code",
      "source": [
        "nacho.sound = \"YAAP\"\n",
        "nacho.describe()"
      ],
      "metadata": {
        "colab": {
          "base_uri": "https://localhost:8080/",
          "height": 35
        },
        "id": "4Wk8Kb4GIkSk",
        "outputId": "5409ee53-ce45-4708-c7d9-84e181043a6a"
      },
      "execution_count": 13,
      "outputs": [
        {
          "output_type": "execute_result",
          "data": {
            "text/plain": [
              "'The loudlapdog says YAAP!YAAP!YAAP!'"
            ],
            "application/vnd.google.colaboratory.intrinsic+json": {
              "type": "string"
            }
          },
          "metadata": {},
          "execution_count": 13
        }
      ]
    },
    {
      "cell_type": "code",
      "source": [
        "nacho.name"
      ],
      "metadata": {
        "colab": {
          "base_uri": "https://localhost:8080/",
          "height": 35
        },
        "id": "C9JTS---IBMy",
        "outputId": "0a4fda29-d8a2-4772-fca3-cd1eedbaaa79"
      },
      "execution_count": 4,
      "outputs": [
        {
          "output_type": "execute_result",
          "data": {
            "text/plain": [
              "'Nacho'"
            ],
            "application/vnd.google.colaboratory.intrinsic+json": {
              "type": "string"
            }
          },
          "metadata": {},
          "execution_count": 4
        }
      ]
    },
    {
      "cell_type": "code",
      "source": [
        "nacho.name = \"CeeBye\"\n",
        "nacho.name"
      ],
      "metadata": {
        "colab": {
          "base_uri": "https://localhost:8080/",
          "height": 35
        },
        "id": "jgqMoiK_IPlC",
        "outputId": "f1e8c98d-90e2-4730-9bb4-2e6811ad41f1"
      },
      "execution_count": 6,
      "outputs": [
        {
          "output_type": "execute_result",
          "data": {
            "text/plain": [
              "'CeeBye'"
            ],
            "application/vnd.google.colaboratory.intrinsic+json": {
              "type": "string"
            }
          },
          "metadata": {},
          "execution_count": 6
        }
      ]
    },
    {
      "cell_type": "code",
      "source": [
        "class Person():\n",
        "  def __init__(self,firstname,lastname):\n",
        "    self.firstname = firstname\n",
        "    self.lastname = lastname\n",
        "\n",
        "  @property\n",
        "  def full_name(self):\n",
        "    return self.firstname + \" \" + self.lastname\n",
        "\n",
        "  @full_name.setter\n",
        "  def full_name(self,value):\n",
        "    first,last = value.split(\" \")\n",
        "    self.firstname = first\n",
        "    self.lastname = last\n",
        "\n",
        "\n",
        ""
      ],
      "metadata": {
        "id": "uMxHcdEN7aQr"
      },
      "execution_count": 60,
      "outputs": []
    },
    {
      "cell_type": "code",
      "source": [
        "guy = Person(\"Santosh\",\"Konda\")\n",
        "guy.full_name"
      ],
      "metadata": {
        "colab": {
          "base_uri": "https://localhost:8080/",
          "height": 35
        },
        "id": "HqrZGs_Y8MsM",
        "outputId": "c7adfc94-9f64-4742-82da-edcee0cd6a43"
      },
      "execution_count": 61,
      "outputs": [
        {
          "output_type": "execute_result",
          "data": {
            "text/plain": [
              "'Santosh Konda'"
            ],
            "application/vnd.google.colaboratory.intrinsic+json": {
              "type": "string"
            }
          },
          "metadata": {},
          "execution_count": 61
        }
      ]
    },
    {
      "cell_type": "code",
      "source": [
        "guy.full_name = \"Divya Gunde\"\n",
        "guy.firstname"
      ],
      "metadata": {
        "colab": {
          "base_uri": "https://localhost:8080/",
          "height": 35
        },
        "id": "xZ3DgZ0j8TJc",
        "outputId": "7a9f11d9-aedf-47bc-b004-56fb6830cdbb"
      },
      "execution_count": 62,
      "outputs": [
        {
          "output_type": "execute_result",
          "data": {
            "text/plain": [
              "'Divya'"
            ],
            "application/vnd.google.colaboratory.intrinsic+json": {
              "type": "string"
            }
          },
          "metadata": {},
          "execution_count": 62
        }
      ]
    },
    {
      "cell_type": "code",
      "source": [
        "guy.lastname"
      ],
      "metadata": {
        "colab": {
          "base_uri": "https://localhost:8080/",
          "height": 35
        },
        "id": "sTtNvGuk8bvi",
        "outputId": "95951d2d-4445-49de-bf02-e18e02058fb9"
      },
      "execution_count": 63,
      "outputs": [
        {
          "output_type": "execute_result",
          "data": {
            "text/plain": [
              "'Gunde'"
            ],
            "application/vnd.google.colaboratory.intrinsic+json": {
              "type": "string"
            }
          },
          "metadata": {},
          "execution_count": 63
        }
      ]
    },
    {
      "cell_type": "code",
      "source": [
        "guy.full_name"
      ],
      "metadata": {
        "colab": {
          "base_uri": "https://localhost:8080/",
          "height": 35
        },
        "id": "r9v_Es_z8dwz",
        "outputId": "1886c0ee-ba12-4530-94b1-68599c35c137"
      },
      "execution_count": 64,
      "outputs": [
        {
          "output_type": "execute_result",
          "data": {
            "text/plain": [
              "'Divya Gunde'"
            ],
            "application/vnd.google.colaboratory.intrinsic+json": {
              "type": "string"
            }
          },
          "metadata": {},
          "execution_count": 64
        }
      ]
    },
    {
      "cell_type": "code",
      "source": [],
      "metadata": {
        "id": "Zfr_3m5L8fzK"
      },
      "execution_count": null,
      "outputs": []
    },
    {
      "cell_type": "markdown",
      "source": [
        "Below is an exercise from Lab work of powerful python class that checks my ability to use properties\n",
        "\n",
        "\n",
        "\n",
        "---\n",
        "'''Create a class representing a concert ticket.\n",
        "Its constructor takes two values: a ticket price,\n",
        "and a section.\n",
        "\n",
        ">>> my_ticket = ConcertTicket(22.0, 'floor')\n",
        ">>> your_ticket = ConcertTicket(42.0, 'mezzanine')\n",
        "\n",
        "You can access these two values through the price and section\n",
        "attributes:\n",
        "\n",
        ">>> my_ticket.price\n",
        "22.0\n",
        ">>> your_ticket.section\n",
        "'mezzanine'\n",
        "\n",
        "Once set, the price cannot be changed. If you try to set it,\n",
        "it raises an error.\n",
        "\n",
        ">>> my_ticket.price = 20.0\n",
        "Traceback (most recent call last):\n",
        "...\n",
        "AttributeError: can't set attribute\n",
        "\n",
        "The section can be changed, but can only be set to \"floor\", \"lower\",\n",
        "\"mezzanine\", or \"premier\". If you try to change it to something\n",
        "different, a ValueError is raised, with a descriptive error message:\n",
        "\n",
        ">>> my_ticket.section = \"lower\"\n",
        ">>> my_ticket.section\n",
        "'lower'\n",
        ">>> my_ticket.section = \"premier\"\n",
        ">>> my_ticket.section\n",
        "'premier'\n",
        ">>> my_ticket.section = \"upper_mezzanine\"\n",
        "Traceback (most recent call last):\n",
        "...\n",
        "ValueError: Invalid section \"upper_mezzanine\"\n",
        "\n",
        "'''\n",
        "\n",
        "---\n",
        "\n"
      ],
      "metadata": {
        "id": "Qg23ebDsMUlJ"
      }
    },
    {
      "cell_type": "code",
      "source": [
        "class ConcertTicket():\n",
        "\n",
        "  def __init__(self,cost,section):\n",
        "    self._section = section\n",
        "    self._price = cost\n",
        "    self.allowedValues = {\"floor\", \"lower\", \"mezzanine\", \"premier\"}\n",
        "\n",
        "\n",
        "  @property\n",
        "  def price(self):\n",
        "    return self._price\n",
        "\n",
        "  @property\n",
        "  def section(self):\n",
        "    return self._section\n",
        "\n",
        "  @section.setter\n",
        "  def section(self,value):\n",
        "\n",
        "    if(value in self.allowedValues):\n",
        "      self._section = value\n",
        "    else:\n",
        "      raise ValueError(\"Invalid section {}\".format(value))\n",
        "\n"
      ],
      "metadata": {
        "id": "WmfWHtVKMsX9"
      },
      "execution_count": 1,
      "outputs": []
    },
    {
      "cell_type": "code",
      "source": [
        "my_ticket = ConcertTicket(22.50,\"floor\")\n",
        "your_ticket = ConcertTicket(42.0, 'mezzanine')\n",
        "my_ticket.price"
      ],
      "metadata": {
        "colab": {
          "base_uri": "https://localhost:8080/"
        },
        "id": "g8oMOrzsS7k8",
        "outputId": "b29512ab-6746-4e14-9468-c08aab845078"
      },
      "execution_count": 2,
      "outputs": [
        {
          "output_type": "execute_result",
          "data": {
            "text/plain": [
              "22.5"
            ]
          },
          "metadata": {},
          "execution_count": 2
        }
      ]
    },
    {
      "cell_type": "code",
      "source": [
        "your_ticket.section\n"
      ],
      "metadata": {
        "colab": {
          "base_uri": "https://localhost:8080/",
          "height": 35
        },
        "id": "LSwF9E5laAlj",
        "outputId": "874fa1df-09da-4069-810f-049552b76e1e"
      },
      "execution_count": 9,
      "outputs": [
        {
          "output_type": "execute_result",
          "data": {
            "text/plain": [
              "'mezzanine'"
            ],
            "application/vnd.google.colaboratory.intrinsic+json": {
              "type": "string"
            }
          },
          "metadata": {},
          "execution_count": 9
        }
      ]
    },
    {
      "cell_type": "code",
      "source": [
        "my_ticket.price = 20.0"
      ],
      "metadata": {
        "colab": {
          "base_uri": "https://localhost:8080/",
          "height": 141
        },
        "id": "3dn9PZLcaSDd",
        "outputId": "92529617-8bd7-4ea8-e390-fd180fa3b21b"
      },
      "execution_count": 3,
      "outputs": [
        {
          "output_type": "error",
          "ename": "AttributeError",
          "evalue": "can't set attribute 'price'",
          "traceback": [
            "\u001b[0;31m---------------------------------------------------------------------------\u001b[0m",
            "\u001b[0;31mAttributeError\u001b[0m                            Traceback (most recent call last)",
            "\u001b[0;32m<ipython-input-3-971e940c974d>\u001b[0m in \u001b[0;36m<cell line: 1>\u001b[0;34m()\u001b[0m\n\u001b[0;32m----> 1\u001b[0;31m \u001b[0mmy_ticket\u001b[0m\u001b[0;34m.\u001b[0m\u001b[0mprice\u001b[0m \u001b[0;34m=\u001b[0m \u001b[0;36m20.0\u001b[0m\u001b[0;34m\u001b[0m\u001b[0;34m\u001b[0m\u001b[0m\n\u001b[0m",
            "\u001b[0;31mAttributeError\u001b[0m: can't set attribute 'price'"
          ]
        }
      ]
    },
    {
      "cell_type": "code",
      "source": [
        "my_ticket.section = \"premier\"\n",
        "my_ticket.allowedValues = {\"floor\", \"lower\", \"mezzanine\", \"premier\",\"Business\"}\n",
        "my_ticket.section = \"Business\"\n",
        "print(my_ticket.allowedValues)\n",
        "my_ticket.section = \"Economy\"\n"
      ],
      "metadata": {
        "colab": {
          "base_uri": "https://localhost:8080/",
          "height": 297
        },
        "id": "w6Xdt6uoaWst",
        "outputId": "a3750db1-89b5-48df-e202-f617b19fdc7b"
      },
      "execution_count": 4,
      "outputs": [
        {
          "output_type": "stream",
          "name": "stdout",
          "text": [
            "{'premier', 'Business', 'mezzanine', 'lower', 'floor'}\n"
          ]
        },
        {
          "output_type": "error",
          "ename": "ValueError",
          "evalue": "Invalid section Economy",
          "traceback": [
            "\u001b[0;31m---------------------------------------------------------------------------\u001b[0m",
            "\u001b[0;31mValueError\u001b[0m                                Traceback (most recent call last)",
            "\u001b[0;32m<ipython-input-4-b01798402f52>\u001b[0m in \u001b[0;36m<cell line: 5>\u001b[0;34m()\u001b[0m\n\u001b[1;32m      3\u001b[0m \u001b[0mmy_ticket\u001b[0m\u001b[0;34m.\u001b[0m\u001b[0msection\u001b[0m \u001b[0;34m=\u001b[0m \u001b[0;34m\"Business\"\u001b[0m\u001b[0;34m\u001b[0m\u001b[0;34m\u001b[0m\u001b[0m\n\u001b[1;32m      4\u001b[0m \u001b[0mprint\u001b[0m\u001b[0;34m(\u001b[0m\u001b[0mmy_ticket\u001b[0m\u001b[0;34m.\u001b[0m\u001b[0mallowedValues\u001b[0m\u001b[0;34m)\u001b[0m\u001b[0;34m\u001b[0m\u001b[0;34m\u001b[0m\u001b[0m\n\u001b[0;32m----> 5\u001b[0;31m \u001b[0mmy_ticket\u001b[0m\u001b[0;34m.\u001b[0m\u001b[0msection\u001b[0m \u001b[0;34m=\u001b[0m \u001b[0;34m\"Economy\"\u001b[0m\u001b[0;34m\u001b[0m\u001b[0;34m\u001b[0m\u001b[0m\n\u001b[0m",
            "\u001b[0;32m<ipython-input-1-4d024840b2b0>\u001b[0m in \u001b[0;36msection\u001b[0;34m(self, value)\u001b[0m\n\u001b[1;32m     21\u001b[0m       \u001b[0mself\u001b[0m\u001b[0;34m.\u001b[0m\u001b[0m_section\u001b[0m \u001b[0;34m=\u001b[0m \u001b[0mvalue\u001b[0m\u001b[0;34m\u001b[0m\u001b[0;34m\u001b[0m\u001b[0m\n\u001b[1;32m     22\u001b[0m     \u001b[0;32melse\u001b[0m\u001b[0;34m:\u001b[0m\u001b[0;34m\u001b[0m\u001b[0;34m\u001b[0m\u001b[0m\n\u001b[0;32m---> 23\u001b[0;31m       \u001b[0;32mraise\u001b[0m \u001b[0mValueError\u001b[0m\u001b[0;34m(\u001b[0m\u001b[0;34m\"Invalid section {}\"\u001b[0m\u001b[0;34m.\u001b[0m\u001b[0mformat\u001b[0m\u001b[0;34m(\u001b[0m\u001b[0mvalue\u001b[0m\u001b[0;34m)\u001b[0m\u001b[0;34m)\u001b[0m\u001b[0;34m\u001b[0m\u001b[0;34m\u001b[0m\u001b[0m\n\u001b[0m\u001b[1;32m     24\u001b[0m \u001b[0;34m\u001b[0m\u001b[0m\n",
            "\u001b[0;31mValueError\u001b[0m: Invalid section Economy"
          ]
        }
      ]
    },
    {
      "cell_type": "markdown",
      "source": [
        "@classmethod decorator can be added to any function to turn it into a factory function. Its signature is different from any other regular function which means it doesn't self as a argument instead it takes cls as the first argument in the function definition. This is reference to class itself and not the instance of a class. The classmethod now ends up serving as an alternate constructor that can return instance of the class where the last line is return cls(Variable1, Variable 2). This can match the signature of the real constructor.\n",
        "\n",
        "Factory methods defined using class methods can also be accessed via sub classes. Tricky part is - If you just declare a method without calling it as a classmethod and using the cls signature and instead just use something like from_pennies(total_pennies). It still serves as a factory inside that class just that it cannot be accessed via subclasses. We will call these as bare functions and can be used to encapsulate any specific logic that we would want to re-use within the function. But if we need that same encapsulated logic to becomes accessible within the inheritance structure, then best to just use a @classmethod decorator.\n",
        "\n",
        "---\n",
        "\n",
        "Now a bit more about the barefunctions. If we do want to use the bare functions out side the class - in cases such as Unit testing that class, then the best way is to annotate that barefunction as a @staticmethod. Without the static method accessing the bare function may still be possible outside the class, but it means you have to carefully prepare the state of the object before accessing and testing that bare function. But static methods make it very simple."
      ],
      "metadata": {
        "id": "VJletGjwuVLk"
      }
    },
    {
      "cell_type": "code",
      "source": [
        "class Subscribers():\n",
        "\n",
        "  def __init__(self,name,events):\n",
        "    self.members = dict()\n",
        "    self.name = name\n",
        "    self.events = events\n",
        "\n",
        "  def register(self,name,new_events):\n",
        "    self.members[self.name]=new_events\n",
        "\n",
        "  def unregister(self,name,removed_events):\n",
        "    for remove_event in  removed_events:\n",
        "      self.members[self.name].discard(remove_event)\n",
        "    print(self.members)\n",
        "\n",
        "    ''' if(self.members.pop(name,0)):\n",
        "      print(\"Removed Key {}\".format(name))\n",
        "    else:\n",
        "      print(\"Member {} not found\".format(name))\n",
        "    '''\n",
        "\n",
        "\n"
      ],
      "metadata": {
        "id": "o4D_xcT2xE0z"
      },
      "execution_count": 155,
      "outputs": []
    },
    {
      "cell_type": "code",
      "source": [
        "events = {\"Cultural\",\"Meetings\",\"Music\",\"Movie\"}\n",
        "subscribers = Subscribers(\"Bob\",events)\n",
        "subscribers.register(\"Bob\",events)\n",
        "print(subscribers.members)"
      ],
      "metadata": {
        "colab": {
          "base_uri": "https://localhost:8080/"
        },
        "id": "wbZC_yE8H-jg",
        "outputId": "d08bc4ad-5edd-4b2c-d733-ae36c3c0cae6"
      },
      "execution_count": 158,
      "outputs": [
        {
          "output_type": "stream",
          "name": "stdout",
          "text": [
            "{'Bob': {'Meetings', 'Cultural', 'Movie', 'Music'}}\n"
          ]
        }
      ]
    },
    {
      "cell_type": "code",
      "source": [
        "remove_events = {'Music', 'Movie'}\n",
        "subscribers.unregister(\"Bob\",remove_events)\n"
      ],
      "metadata": {
        "colab": {
          "base_uri": "https://localhost:8080/"
        },
        "id": "feIhQYOGKT7n",
        "outputId": "3c587739-5d4a-4b5e-fb6e-e46fe890f468"
      },
      "execution_count": 159,
      "outputs": [
        {
          "output_type": "stream",
          "name": "stdout",
          "text": [
            "{'Bob': {'Meetings', 'Cultural'}}\n"
          ]
        }
      ]
    },
    {
      "cell_type": "code",
      "source": [
        "class Subscriber():\n",
        "  def __init__(self,name):\n",
        "    self.name =  name\n",
        "  def update(self,message):\n",
        "    print(\"{} got {}\".format(self.name,message))\n",
        "\n",
        "class Publisher():\n",
        "  def __init__(self,channels):\n",
        "    self.channels = {channel :dict()\n",
        "                              for channel in channels} #This is creating a dictionary[for each channel passed in the constructor] of dictionaries[subscriber Obj (key) and callback method reference(value)]. Try type(pub.channels)\n",
        "  def register(self,subscriber,channel, callback = None):\n",
        "    if callback is None:\n",
        "      callback = subscriber.update #This returns a reference to the update method object of subscriber obj. So now callback variable can essentially be used as a condiut for update method.\n",
        "    subscribers = self.channels[channel] #Fetching the dictionary object corresponding to channel passed in the register function call. Try type(pub.channels['Lunch']) and pub.channels['Lunch'][bob] after calling the register function\n",
        "    subscribers[subscriber] = callback #Create a new key value pair within the subscribers dictionary.\n",
        "\n",
        "  def dispatch(self,channel,message):\n",
        "    subscribers = self.channels[channel]\n",
        "    for callback in subscribers.values():\n",
        "      #print(callback)\n",
        "      callback(message)\n",
        "\n",
        "\n",
        "\n"
      ],
      "metadata": {
        "id": "d_n31FVtqgFK"
      },
      "execution_count": 26,
      "outputs": []
    },
    {
      "cell_type": "code",
      "source": [
        "pub = Publisher(['Lunch','Dinner'])\n",
        "print(pub.channels)"
      ],
      "metadata": {
        "colab": {
          "base_uri": "https://localhost:8080/"
        },
        "id": "jwkGxfaLxBLD",
        "outputId": "e254b6b8-697d-472e-b60f-68d9506ad0d3"
      },
      "execution_count": 27,
      "outputs": [
        {
          "output_type": "stream",
          "name": "stdout",
          "text": [
            "{'Lunch': {}, 'Dinner': {}}\n"
          ]
        }
      ]
    },
    {
      "cell_type": "code",
      "source": [
        "type(pub.channels['Lunch'])"
      ],
      "metadata": {
        "colab": {
          "base_uri": "https://localhost:8080/"
        },
        "id": "pbzO6JZoyyCB",
        "outputId": "58dd45ad-eccd-4e74-9bb4-c0688248f4fe"
      },
      "execution_count": 28,
      "outputs": [
        {
          "output_type": "execute_result",
          "data": {
            "text/plain": [
              "dict"
            ]
          },
          "metadata": {},
          "execution_count": 28
        }
      ]
    },
    {
      "cell_type": "code",
      "source": [
        "bob = Subscriber(\"Bob\")\n",
        "john = Subscriber(\"John\")\n",
        "lego = Subscriber(\"Lego\")\n",
        "pub.register(bob,'Lunch')\n",
        "pub.register(john,'Dinner')\n",
        "pub.register(lego,'Dinner',lego.update)\n",
        "pub.channels['Dinner'][john]"
      ],
      "metadata": {
        "colab": {
          "base_uri": "https://localhost:8080/",
          "height": 104
        },
        "id": "Njhfx-IFzCcW",
        "outputId": "56ff5f6e-a44b-434d-8097-79fb1da63f18"
      },
      "execution_count": 29,
      "outputs": [
        {
          "output_type": "execute_result",
          "data": {
            "text/plain": [
              "<bound method Subscriber.update of <__main__.Subscriber object at 0x796db9cdb190>>"
            ],
            "text/html": [
              "<div style=\"max-width:800px; border: 1px solid var(--colab-border-color);\"><style>\n",
              "      pre.function-repr-contents {\n",
              "        overflow-x: auto;\n",
              "        padding: 8px 12px;\n",
              "        max-height: 500px;\n",
              "      }\n",
              "\n",
              "      pre.function-repr-contents.function-repr-contents-collapsed {\n",
              "        cursor: pointer;\n",
              "        max-height: 100px;\n",
              "      }\n",
              "    </style>\n",
              "    <pre style=\"white-space: initial; background:\n",
              "         var(--colab-secondary-surface-color); padding: 8px 12px;\n",
              "         border-bottom: 1px solid var(--colab-border-color);\"><b>Subscriber.update</b><br/>def update(message)</pre><pre class=\"function-repr-contents function-repr-contents-collapsed\" style=\"\"><a class=\"filepath\" style=\"display:none\" href=\"#\">/content/&lt;ipython-input-26-f624a498beeb&gt;</a>&lt;no docstring&gt;</pre></div>"
            ]
          },
          "metadata": {},
          "execution_count": 29
        }
      ]
    },
    {
      "cell_type": "code",
      "source": [
        "pub.dispatch(\"Dinner\",\"'Get ready to meet at the dining hall'\")"
      ],
      "metadata": {
        "colab": {
          "base_uri": "https://localhost:8080/"
        },
        "id": "sbCbVF3U72sI",
        "outputId": "80026395-0582-4c16-df51-0fe7ed8b7e1c"
      },
      "execution_count": 31,
      "outputs": [
        {
          "output_type": "stream",
          "name": "stdout",
          "text": [
            "John got 'Get ready to meet at the dining hall'\n",
            "Lego got 'Get ready to meet at the dining hall'\n"
          ]
        }
      ]
    }
  ]
}